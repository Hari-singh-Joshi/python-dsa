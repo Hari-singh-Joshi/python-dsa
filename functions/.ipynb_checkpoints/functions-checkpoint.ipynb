{
 "cells": [
  {
   "cell_type": "code",
   "execution_count": 1,
   "id": "ee32d6f3",
   "metadata": {},
   "outputs": [
    {
     "name": "stdout",
     "output_type": "stream",
     "text": [
      "sum= 11\n",
      "sum= 10.5\n"
     ]
    }
   ],
   "source": [
    "#A function to add two numbers\n",
    "def sum(a,b):\n",
    "    \"\"\"the function find sum of two numbers\"\"\"\n",
    "    c=a+b\n",
    "    print('sum=',c)\n",
    "#calling the function\n",
    "sum(3,8)\n",
    "sum(7,3.5)\n"
   ]
  },
  {
   "cell_type": "code",
   "execution_count": 2,
   "id": "f3db096f",
   "metadata": {},
   "outputs": [
    {
     "name": "stdout",
     "output_type": "stream",
     "text": [
      "the sum is: 15\n"
     ]
    }
   ],
   "source": [
    "#returning funtion from the result\n",
    "\n",
    "# find sum of two numbers and return the result from the function\n",
    "def sum(a,b):\n",
    "    c=a+b\n",
    "    return c\n",
    "#calling the function\n",
    "x=sum(10,5)\n",
    "print('the sum is:',x)\n"
   ]
  },
  {
   "cell_type": "code",
   "execution_count": 3,
   "id": "6f91782c",
   "metadata": {},
   "outputs": [
    {
     "name": "stdout",
     "output_type": "stream",
     "text": [
      "enter the number5\n",
      "5 :is odd\n"
     ]
    }
   ],
   "source": [
    "# A funtion to test whether the given number is odd or even\n",
    "def check(num):\n",
    "    if num%2==0:\n",
    "        print(num,\":is even\")\n",
    "    else:\n",
    "        print(num,\":is odd\")\n",
    "#calling the function\n",
    "num=int(input(\"enter the number\"))\n",
    "check(num)\n",
    "            "
   ]
  },
  {
   "cell_type": "code",
   "execution_count": 1,
   "id": "4da02d50",
   "metadata": {},
   "outputs": [
    {
     "name": "stdout",
     "output_type": "stream",
     "text": [
      "the factorial of 1 is: 1\n",
      "the factorial of 2 is: 2\n",
      "the factorial of 3 is: 6\n",
      "the factorial of 4 is: 24\n",
      "the factorial of 5 is: 120\n",
      "the factorial of 6 is: 720\n",
      "the factorial of 7 is: 5040\n",
      "the factorial of 8 is: 40320\n",
      "the factorial of 9 is: 362880\n",
      "the factorial of 10 is: 3628800\n"
     ]
    }
   ],
   "source": [
    "#python program to find the factorial value of a number\n",
    "def factorial(num):\n",
    "    x=1\n",
    "    while num>=1:\n",
    "        x=x*num\n",
    "        num=num-1\n",
    "    return x\n",
    "#calling the function\n",
    "#displaying the factorial of first 10 numbers\n",
    "for i in range(1,11):\n",
    "    print('the factorial of', i,'is:',factorial(i))\n",
    "  "
   ]
  },
  {
   "cell_type": "code",
   "execution_count": 5,
   "id": "59c0058e",
   "metadata": {},
   "outputs": [
    {
     "name": "stdout",
     "output_type": "stream",
     "text": [
      "enter the number9\n",
      "9 is prime number\n"
     ]
    }
   ],
   "source": [
    "#A program to find the given number is prime or not\n",
    "def prime(num):\n",
    "    flag=0\n",
    "    for i in range(2,num):\n",
    "        if num%i==0:\n",
    "            print(num,'is not prime number')\n",
    "            break\n",
    "        else:\n",
    "            print(num,'is prime number')\n",
    "            break\n",
    "#calling the function\n",
    "num=int(input('enter the number'))\n",
    "prime(num)\n"
   ]
  },
  {
   "cell_type": "code",
   "execution_count": null,
   "id": "cfe97439",
   "metadata": {},
   "outputs": [],
   "source": []
  }
 ],
 "metadata": {
  "kernelspec": {
   "display_name": "Python 3 (ipykernel)",
   "language": "python",
   "name": "python3"
  },
  "language_info": {
   "codemirror_mode": {
    "name": "ipython",
    "version": 3
   },
   "file_extension": ".py",
   "mimetype": "text/x-python",
   "name": "python",
   "nbconvert_exporter": "python",
   "pygments_lexer": "ipython3",
   "version": "3.9.16"
  }
 },
 "nbformat": 4,
 "nbformat_minor": 5
}
