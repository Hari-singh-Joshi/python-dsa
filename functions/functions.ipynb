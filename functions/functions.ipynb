{
 "cells": [
  {
   "cell_type": "code",
   "execution_count": 1,
   "id": "ee32d6f3",
   "metadata": {},
   "outputs": [
    {
     "name": "stdout",
     "output_type": "stream",
     "text": [
      "sum= 11\n",
      "sum= 10.5\n"
     ]
    }
   ],
   "source": [
    "#A function to add two numbers\n",
    "def sum(a,b):\n",
    "    \"\"\"the function find sum of two numbers\"\"\"\n",
    "    c=a+b\n",
    "    print('sum=',c)\n",
    "#calling the function\n",
    "sum(3,8)\n",
    "sum(7,3.5)\n"
   ]
  },
  {
   "cell_type": "code",
   "execution_count": 2,
   "id": "f3db096f",
   "metadata": {},
   "outputs": [
    {
     "name": "stdout",
     "output_type": "stream",
     "text": [
      "the sum is: 15\n"
     ]
    }
   ],
   "source": [
    "#returning funtion from the result\n",
    "\n",
    "# find sum of two numbers and return the result from the function\n",
    "def sum(a,b):\n",
    "    c=a+b\n",
    "    return c\n",
    "#calling the function\n",
    "x=sum(10,5)\n",
    "print('the sum is:',x)\n"
   ]
  },
  {
   "cell_type": "code",
   "execution_count": 3,
   "id": "6f91782c",
   "metadata": {},
   "outputs": [
    {
     "name": "stdout",
     "output_type": "stream",
     "text": [
      "enter the number5\n",
      "5 :is odd\n"
     ]
    }
   ],
   "source": [
    "# A funtion to test whether the given number is odd or even\n",
    "def check(num):\n",
    "    if num%2==0:\n",
    "        print(num,\":is even\")\n",
    "    else:\n",
    "        print(num,\":is odd\")\n",
    "#calling the function\n",
    "num=int(input(\"enter the number\"))\n",
    "check(num)\n",
    "            "
   ]
  },
  {
   "cell_type": "code",
   "execution_count": 1,
   "id": "4da02d50",
   "metadata": {},
   "outputs": [
    {
     "name": "stdout",
     "output_type": "stream",
     "text": [
      "the factorial of 1 is: 1\n",
      "the factorial of 2 is: 2\n",
      "the factorial of 3 is: 6\n",
      "the factorial of 4 is: 24\n",
      "the factorial of 5 is: 120\n",
      "the factorial of 6 is: 720\n",
      "the factorial of 7 is: 5040\n",
      "the factorial of 8 is: 40320\n",
      "the factorial of 9 is: 362880\n",
      "the factorial of 10 is: 3628800\n"
     ]
    }
   ],
   "source": [
    "#python program to find the factorial value of a number\n",
    "def factorial(num):\n",
    "    x=1\n",
    "    while num>=1:\n",
    "        x=x*num\n",
    "        num=num-1\n",
    "    return x\n",
    "#calling the function\n",
    "#displaying the factorial of first 10 numbers\n",
    "for i in range(1,11):\n",
    "    print('the factorial of', i,'is:',factorial(i))\n",
    "  "
   ]
  },
  {
   "cell_type": "code",
   "execution_count": 33,
   "id": "59c0058e",
   "metadata": {},
   "outputs": [
    {
     "name": "stdout",
     "output_type": "stream",
     "text": [
      "enter the number7\n",
      "7 is prime number\n"
     ]
    }
   ],
   "source": [
    "#A program to find the given number is prime or not\n",
    "def prime(num):\n",
    "    flag=0\n",
    "    for i in range(2,int(n**0.5)+1):\n",
    "        if num%i==0:\n",
    "            flag=1\n",
    "            break\n",
    "    return flag\n",
    "#calling the function\n",
    "num=int(input('enter the number'))\n",
    "flag=0\n",
    "flag=prime(num)\n",
    "if flag==1:\n",
    "    print(num,'is not prime number')\n",
    "else:\n",
    "    print(num,'is prime number')\n"
   ]
  },
  {
   "cell_type": "code",
   "execution_count": 34,
   "id": "cfe97439",
   "metadata": {
    "scrolled": true
   },
   "outputs": [
    {
     "name": "stdout",
     "output_type": "stream",
     "text": [
      "enter the number9\n",
      "the prime numper upto  9 are:\n",
      "2\n",
      "3\n",
      "5\n",
      "7\n"
     ]
    }
   ],
   "source": [
    "#python program to generate prime numbers\n",
    "def is_prime(n):\n",
    "    if n <= 1:\n",
    "        return False\n",
    "\n",
    "    for i in range(2,int(n**0.5)+1):\n",
    "        if n%i==0:\n",
    "            return False\n",
    "    return True\n",
    "        \n",
    "def generate_prime_numbers(num):\n",
    "    for i in range(2,num+1):\n",
    "        if is_prime(i):\n",
    "            print(i)\n",
    "    \n",
    "#calling the function\n",
    "num=int(input('enter the number'))\n",
    "print(\"the prime numper upto \",num,\"are:\")\n",
    "generate_prime_numbers(num)\n",
    "\n",
    "# Note to understand#\n",
    "# if prime(i):\n",
    "#     print(i)\n",
    "# it looks like actually:\n",
    "#     if 1:\n",
    "#         print(i)\n",
    "# python treats 1 as true and 0 as false\n",
    "# hence above statement will be read as\n",
    "# if true:\n",
    "#     print(i)"
   ]
  },
  {
   "cell_type": "code",
   "execution_count": 40,
   "id": "ec02580a",
   "metadata": {},
   "outputs": [],
   "source": [
    "##returning multiple values from a function"
   ]
  },
  {
   "cell_type": "code",
   "execution_count": 36,
   "id": "a4a7ff50",
   "metadata": {},
   "outputs": [
    {
     "name": "stdout",
     "output_type": "stream",
     "text": [
      "7\n",
      "-1\n"
     ]
    }
   ],
   "source": [
    "#returning multiple values from a function\n",
    "def sum_sub(a,b):\n",
    "    sum=a+b\n",
    "    sub=a-b\n",
    "    return sum,sub\n",
    "x,y=sum_sub(3,4)\n",
    "print(x)\n",
    "print(y)"
   ]
  },
  {
   "cell_type": "code",
   "execution_count": 42,
   "id": "0d1c1589",
   "metadata": {},
   "outputs": [
    {
     "name": "stdout",
     "output_type": "stream",
     "text": [
      "12 6 27 3.0 "
     ]
    }
   ],
   "source": [
    "# A function that return the result of addition,subtraction,multiplication,division\n",
    "def alloperation(a,b):\n",
    "    c=a+b\n",
    "    d=a-b\n",
    "    e=a*b\n",
    "    f=a/b\n",
    "    return c,d,e,f\n",
    "t=alloperation(9,3)\n",
    "for i in t:\n",
    "    print(i,end=\" \")"
   ]
  },
  {
   "cell_type": "code",
   "execution_count": null,
   "id": "5845db6b",
   "metadata": {},
   "outputs": [],
   "source": [
    "# functions are first class"
   ]
  },
  {
   "cell_type": "code",
   "execution_count": 1,
   "id": "4d7af1f7",
   "metadata": {},
   "outputs": [
    {
     "name": "stdout",
     "output_type": "stream",
     "text": [
      "chalo padhte haihari\n"
     ]
    }
   ],
   "source": [
    "#A program to know how to define a function inside another function.\n",
    "def display(strr):\n",
    "    def message():\n",
    "        return 'chalo padhte hai'\n",
    "    result=message()+strr\n",
    "    return result\n",
    "#calling function\n",
    "x=display('hari')\n",
    "print(x)"
   ]
  },
  {
   "cell_type": "code",
   "execution_count": 6,
   "id": "98413147",
   "metadata": {},
   "outputs": [
    {
     "data": {
      "text/plain": [
       "'haihow are you'"
      ]
     },
     "execution_count": 6,
     "metadata": {},
     "output_type": "execute_result"
    }
   ],
   "source": [
    "#A program to know how to pass a function as parameter to another function\n",
    "def display(fun):\n",
    "    return 'hai'+fun\n",
    "def message():\n",
    "    return 'how are you'\n",
    "display(message())\n",
    "\n",
    "#Note\n",
    "#here the fun will catch the string returned by message() function\n"
   ]
  },
  {
   "cell_type": "code",
   "execution_count": 8,
   "id": "f0d02204",
   "metadata": {},
   "outputs": [
    {
     "name": "stdout",
     "output_type": "stream",
     "text": [
      "how are you?\n"
     ]
    }
   ],
   "source": [
    "#A program to know how a function can return another function\n",
    "def display():\n",
    "    def message():\n",
    "        return 'how are you?'\n",
    "    return message\n",
    "fun=display()\n",
    "print(fun())\n",
    "\n",
    "#Note\n",
    "# fun will be considered as function because display is returning\n",
    "# a message function and we are storing it in fun variable."
   ]
  },
  {
   "cell_type": "code",
   "execution_count": 2,
   "id": "9dcafaf0",
   "metadata": {},
   "outputs": [],
   "source": [
    "#PASS BY OBJECT REFERENCE\n",
    "\n"
   ]
  },
  {
   "cell_type": "code",
   "execution_count": 7,
   "id": "487e06e5",
   "metadata": {},
   "outputs": [
    {
     "name": "stdout",
     "output_type": "stream",
     "text": [
      "15 1977357894320\n",
      "10 1977357894160\n"
     ]
    }
   ],
   "source": [
    "#A program to pass an integer to a function and modify it\n",
    "def modify(x):\n",
    "    \n",
    "    print(x,id(x))\n",
    "#call\n",
    "x=10 \n",
    "modify(15)\n",
    "print(x,id(x))"
   ]
  },
  {
   "cell_type": "code",
   "execution_count": 9,
   "id": "f2ce2a0e",
   "metadata": {},
   "outputs": [
    {
     "name": "stdout",
     "output_type": "stream",
     "text": [
      "[1, 2, 3, 4, 9] 1977466456000\n",
      "[1, 2, 3, 4, 9] 1977466456000\n"
     ]
    }
   ],
   "source": [
    "# a python program to pass a list to a function and modify it\n",
    "def modify(lst):\n",
    "    lst.append(9)\n",
    "    print(lst,id(lst))\n",
    "# call \n",
    "lst=[1,2,3,4]\n",
    "modify(lst)\n",
    "print(lst,id(lst))"
   ]
  },
  {
   "cell_type": "code",
   "execution_count": 10,
   "id": "030e786d",
   "metadata": {},
   "outputs": [],
   "source": [
    "#NOTE:\n",
    "# if the object is immuttable, the modified value is not available outside the function\n",
    "# if the object is muttable, the modified value is  available outside the function"
   ]
  },
  {
   "cell_type": "code",
   "execution_count": 11,
   "id": "ae5302c8",
   "metadata": {},
   "outputs": [
    {
     "name": "stdout",
     "output_type": "stream",
     "text": [
      "item=sugar\n",
      "price=50.750000\n",
      "item=sugar\n",
      "price=50.750000\n"
     ]
    }
   ],
   "source": [
    " #keyword argument\n",
    "def grocery(item,price):\n",
    "    print('item=%s'%item)\n",
    "    print('price=%2f'%price)\n",
    "#call\n",
    "grocery(item='sugar',price=50.75)\n",
    "grocery(price=50.75,item='sugar')"
   ]
  },
  {
   "cell_type": "code",
   "execution_count": 14,
   "id": "343abc2c",
   "metadata": {},
   "outputs": [
    {
     "name": "stdout",
     "output_type": "stream",
     "text": [
      "formal argument= 5\n",
      "sum of all numbers= 15\n",
      "formal argument= 2\n",
      "sum of all numbers= 49\n"
     ]
    }
   ],
   "source": [
    "#imp: python program to show variable length argument and its use.\n",
    "def add(farg,*args):\n",
    "    print('formal argument=',farg)\n",
    "    sum=0\n",
    "    for i in args:\n",
    "        sum+=i\n",
    "    print('sum of all numbers=',(farg+sum))\n",
    "#calling function\n",
    "add(5,10)\n",
    "add(2,4,6,7,8,9,11,2)"
   ]
  },
  {
   "cell_type": "code",
   "execution_count": 17,
   "id": "a6d2ab20",
   "metadata": {},
   "outputs": [
    {
     "name": "stdout",
     "output_type": "stream",
     "text": [
      "formal argument= 5\n",
      "key=rno,value=10\n"
     ]
    }
   ],
   "source": [
    "# keyword variable length argument:\n",
    "def display(farg,**kargs):\n",
    "    print('formal argument=',farg)\n",
    "    for x,y in kargs.items():#item will give pairs of items\n",
    "        print('key={},value={}'.format(x,y))\n",
    "display(5,rno=10)\n",
    "        "
   ]
  },
  {
   "cell_type": "code",
   "execution_count": 18,
   "id": "9e8f3e74",
   "metadata": {},
   "outputs": [],
   "source": [
    "#PASSING  A GROUP OF ELEMENTS TO A FUNCTION"
   ]
  },
  {
   "cell_type": "code",
   "execution_count": 21,
   "id": "f42d574e",
   "metadata": {},
   "outputs": [
    {
     "name": "stdout",
     "output_type": "stream",
     "text": [
      "enter number separated by space:\n",
      "1 2 3\n",
      "Total: 6\n",
      "Average: 2.0\n"
     ]
    }
   ],
   "source": [
    "# a function to accept a group of numbers and find their total average\n",
    "def calculate(lst):\n",
    "    n=len(lst)\n",
    "    sum=0\n",
    "    for i in lst:\n",
    "        sum+=i\n",
    "        avg=sum/n\n",
    "    return sum,avg\n",
    "print('enter number separated by space:')\n",
    "lst=[int(x) for x in input().split()]#used to give elements of integers at run time. each value is stored in x\n",
    "x,y=calculate(lst)\n",
    "print('Total:',x)\n",
    "print('Average:',y)"
   ]
  },
  {
   "cell_type": "code",
   "execution_count": 27,
   "id": "338f9e1c",
   "metadata": {},
   "outputs": [
    {
     "name": "stdout",
     "output_type": "stream",
     "text": [
      "enter string separated by comma:\n",
      "harish,joshi\n",
      "harish,joshi\n"
     ]
    },
    {
     "ename": "TypeError",
     "evalue": "cannot unpack non-iterable NoneType object",
     "output_type": "error",
     "traceback": [
      "\u001b[1;31m---------------------------------------------------------------------------\u001b[0m",
      "\u001b[1;31mTypeError\u001b[0m                                 Traceback (most recent call last)",
      "Cell \u001b[1;32mIn[27], line 9\u001b[0m\n\u001b[0;32m      7\u001b[0m \u001b[38;5;66;03m#call\u001b[39;00m\n\u001b[0;32m      8\u001b[0m lst\u001b[38;5;241m=\u001b[39m[\u001b[38;5;28mstr\u001b[39m(x) \u001b[38;5;28;01mfor\u001b[39;00m x \u001b[38;5;129;01min\u001b[39;00m \u001b[38;5;28minput\u001b[39m()\u001b[38;5;241m.\u001b[39msplit()]\n\u001b[1;32m----> 9\u001b[0m x,y\u001b[38;5;241m=\u001b[39mdisplay(lst)\n\u001b[0;32m     10\u001b[0m display(lst)\n",
      "\u001b[1;31mTypeError\u001b[0m: cannot unpack non-iterable NoneType object"
     ]
    }
   ],
   "source": [
    "# A function to display group of strings.\n",
    "def display(lst):\n",
    "    for i in lst:\n",
    "        print(i)\n",
    "\n",
    "print('enter string separated by comma:')\n",
    "#call\n",
    "lst=[str(x) for x in input().split()]\n",
    "x,y=display(lst)\n",
    "display(lst)\n"
   ]
  },
  {
   "cell_type": "code",
   "execution_count": 26,
   "id": "44e76db0",
   "metadata": {},
   "outputs": [
    {
     "name": "stdout",
     "output_type": "stream",
     "text": [
      "<class 'int'>\n"
     ]
    }
   ],
   "source": [
    "x=4\n",
    "print(type(x))"
   ]
  },
  {
   "cell_type": "code",
   "execution_count": 28,
   "id": "3997c692",
   "metadata": {},
   "outputs": [],
   "source": [
    "#Recurssion\n"
   ]
  },
  {
   "cell_type": "code",
   "execution_count": 29,
   "id": "b2b41986",
   "metadata": {},
   "outputs": [
    {
     "name": "stdout",
     "output_type": "stream",
     "text": [
      "enter the number4\n",
      "factorial of 0 is 1\n",
      "factorial of 1 is 1\n",
      "factorial of 2 is 2\n",
      "factorial of 3 is 6\n",
      "factorial of 4 is 24\n"
     ]
    }
   ],
   "source": [
    "# A recurssion program to calculate factorial\n",
    "def factorial(n):\n",
    "    if n==0:\n",
    "        result=1\n",
    "    else:\n",
    "        result=n*factorial(n-1)\n",
    "    return result\n",
    "n=int(input('enter the number'))\n",
    "for i in range(0,n+1):\n",
    "    print('factorial of {} is {}'.format(i,factorial(i)))"
   ]
  },
  {
   "cell_type": "code",
   "execution_count": 1,
   "id": "56dbd2d1",
   "metadata": {},
   "outputs": [
    {
     "name": "stdout",
     "output_type": "stream",
     "text": [
      "sum= 11.55\n"
     ]
    }
   ],
   "source": [
    "#lambda function to calculate sum of two numbers\n",
    "f=lambda x,y:x+y\n",
    "result=f(1.55,10)\n",
    "print('sum=',result)"
   ]
  },
  {
   "cell_type": "code",
   "execution_count": 2,
   "id": "6f95007b",
   "metadata": {},
   "outputs": [],
   "source": [
    "# the filter function is useful to filter out the elements of a sequence depending on the result of a function.\n",
    "#syntax: filter(function,sequence)\n"
   ]
  },
  {
   "cell_type": "code",
   "execution_count": 4,
   "id": "b1d81863",
   "metadata": {},
   "outputs": [
    {
     "name": "stdout",
     "output_type": "stream",
     "text": [
      "[10, 12, 78, 66]\n"
     ]
    }
   ],
   "source": [
    "#program using filter function to filter out even numbers from a list\n",
    "def is_even(x):\n",
    "    if x%2==0:\n",
    "        return True\n",
    "    else:\n",
    "        return False\n",
    "lst=[10,12,45,78,66]\n",
    "lst1=list(filter(is_even,lst))\n",
    "print(lst1)"
   ]
  },
  {
   "cell_type": "code",
   "execution_count": 6,
   "id": "d57b5908",
   "metadata": {},
   "outputs": [
    {
     "name": "stdout",
     "output_type": "stream",
     "text": [
      "120\n"
     ]
    }
   ],
   "source": [
    "#lambda function that returns product of elements from a list\n",
    "from functools import *\n",
    "lst=[1,2,3,4,5]\n",
    "result=reduce(lambda x,y:x*y,lst)\n",
    "print(result)"
   ]
  },
  {
   "cell_type": "code",
   "execution_count": null,
   "id": "0b284d82",
   "metadata": {},
   "outputs": [],
   "source": []
  }
 ],
 "metadata": {
  "kernelspec": {
   "display_name": "Python 3 (ipykernel)",
   "language": "python",
   "name": "python3"
  },
  "language_info": {
   "codemirror_mode": {
    "name": "ipython",
    "version": 3
   },
   "file_extension": ".py",
   "mimetype": "text/x-python",
   "name": "python",
   "nbconvert_exporter": "python",
   "pygments_lexer": "ipython3",
   "version": "3.9.16"
  }
 },
 "nbformat": 4,
 "nbformat_minor": 5
}
