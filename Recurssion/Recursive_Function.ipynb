{
 "cells": [
  {
   "cell_type": "code",
   "execution_count": 1,
   "id": "4222ebbe",
   "metadata": {},
   "outputs": [
    {
     "name": "stdout",
     "output_type": "stream",
     "text": [
      "Enter the First number: 50\n",
      "Enter the Second number6\n",
      "2\n"
     ]
    }
   ],
   "source": [
    "# program to calculate GCD using recursive functions\n",
    "# GCD= greatest common divisor that divide both the numbers\n",
    "def GCD(x,y):\n",
    "    rem=x%y\n",
    "    if rem==0:\n",
    "        return y\n",
    "    else:\n",
    "        return GCD(y,rem)\n",
    "n=int(input('Enter the First number: '))\n",
    "m=int(input('Enter the Second number'))\n",
    "print(GCD(n,m))"
   ]
  },
  {
   "cell_type": "code",
   "execution_count": 3,
   "id": "b30bf397",
   "metadata": {},
   "outputs": [
    {
     "name": "stdout",
     "output_type": "stream",
     "text": [
      "Enter the First number: 5\n",
      "Enter the Second number2\n",
      "25\n"
     ]
    }
   ],
   "source": [
    "#Finding exponent xto the power y\n",
    "def exp(x,y):\n",
    "    if y==0:\n",
    "        return 1\n",
    "    else:\n",
    "        return (x*exp(x,y-1))\n",
    "n=int(input('Enter the First number: '))\n",
    "m=int(input('Enter the Second number'))\n",
    "print(exp(n,m))"
   ]
  },
  {
   "cell_type": "code",
   "execution_count": 10,
   "id": "23447655",
   "metadata": {},
   "outputs": [
    {
     "name": "stdout",
     "output_type": "stream",
     "text": [
      "Enter the number: 5\n",
      "1\n",
      "1\n",
      "2\n",
      "3\n",
      "5\n",
      "8\n"
     ]
    }
   ],
   "source": [
    "#fibonacci series \n",
    "def fibonacci(n):\n",
    "    if(n<2):\n",
    "        return 1\n",
    "    else:\n",
    "        return (fibonacci(n-1)+fibonacci(n-2))\n",
    "n=int(input('Enter the number: '))\n",
    "for i in range(n+1):\n",
    "    print(fibonacci(i))\n",
    "    \n",
    "#explanation-suppose n=5then\n",
    "#f(4)+f(3)\n",
    "#f(3)+f(2)+f(2)+f(1)\n",
    "#f(2)+f(1)+f(1)+f(0)+f(1)+f(0)+f(1)\n",
    "#f(1)+f(0)+f(1)+f(1)+f(0)+f(1)+f(0)+f(1)"
   ]
  },
  {
   "cell_type": "code",
   "execution_count": 11,
   "id": "9c3a9e60",
   "metadata": {},
   "outputs": [
    {
     "name": "stdout",
     "output_type": "stream",
     "text": [
      "Original string: hello\n",
      "Reversed string: olleh\n"
     ]
    }
   ],
   "source": [
    "#function to reverse the string manually\n",
    "def reverse_string(s):\n",
    "    reversed_str = \"\"\n",
    "    for i in s:\n",
    "        reversed_str = i + reversed_str\n",
    "    return reversed_str\n",
    "\n",
    "# Example usage:\n",
    "original_string = \"hello\"\n",
    "reversed_string = reverse_string(original_string)\n",
    "print(\"Original string:\", original_string)\n",
    "print(\"Reversed string:\", reversed_string)\n"
   ]
  },
  {
   "cell_type": "code",
   "execution_count": 22,
   "id": "cf9b47f9",
   "metadata": {},
   "outputs": [
    {
     "name": "stdout",
     "output_type": "stream",
     "text": [
      "Traversing digits of the number: 12345\n",
      "1\n",
      "2\n",
      "3\n",
      "4\n",
      "5\n"
     ]
    }
   ],
   "source": [
    "#same thing as above\n",
    "str=\"\"\n",
    "for i in 'harish':\n",
    "    str=i+str\n",
    "print(str)\n",
    "    \n",
    "       \n"
   ]
  },
  {
   "cell_type": "code",
   "execution_count": 21,
   "id": "8f834698",
   "metadata": {},
   "outputs": [
    {
     "name": "stdout",
     "output_type": "stream",
     "text": [
      "Original string: hello\n",
      "Reversed string: olleh\n"
     ]
    }
   ],
   "source": [
    "def reverse_string(s):\n",
    "    # Base case: if the string is empty, return an empty string\n",
    "    if not s:\n",
    "        return \"\"\n",
    "    # Recursive case: reverse the substring starting from the second character,\n",
    "    # then append the first character at the end\n",
    "    return reverse_string(s[1:]) +  s[0] # recursive funciton will be applied in s[1:]\n",
    "\n",
    "# Example usage:\n",
    "original_string = \"hello\"\n",
    "reversed_string = reverse_string(original_string)\n",
    "print(\"Original string:\", original_string)\n",
    "print(\"Reversed string:\", reversed_string)\n"
   ]
  },
  {
   "cell_type": "code",
   "execution_count": 23,
   "id": "4ef2031b",
   "metadata": {},
   "outputs": [
    {
     "name": "stdout",
     "output_type": "stream",
     "text": [
      "Traversing digits of the number: 12345\n",
      "1\n",
      "2\n",
      "3\n",
      "4\n",
      "5\n"
     ]
    }
   ],
   "source": [
    "def traverse_digits(num):\n",
    "    # Base case: if the number is 0, stop the recursion\n",
    "    if num == 0:\n",
    "        return\n",
    "    # Recursive call to traverse the digits of the number without the last digit\n",
    "    traverse_digits(num // 10)\n",
    "    # Process the last digit (e.g., print it)\n",
    "    print(num % 10)\n",
    "\n",
    "# Example usage:\n",
    "number = 12345\n",
    "print(\"Traversing digits of the number:\", number)\n",
    "traverse_digits(number)\n"
   ]
  },
  {
   "cell_type": "code",
   "execution_count": 34,
   "id": "1d421cab",
   "metadata": {},
   "outputs": [
    {
     "name": "stdout",
     "output_type": "stream",
     "text": [
      "16\n"
     ]
    }
   ],
   "source": [
    "#Write a recursive function to calculate the sum of digits of a positive integer.\n",
    "def add(num):\n",
    "    \n",
    "    if num==0:\n",
    "        return 0\n",
    "    \n",
    "    return num%10+add(num//10)\n",
    "    \n",
    "num= 745\n",
    "result= add(num)\n",
    "print(result)\n",
    "    \n",
    "    \n",
    "        "
   ]
  },
  {
   "cell_type": "code",
   "execution_count": null,
   "id": "1890b864",
   "metadata": {},
   "outputs": [],
   "source": []
  }
 ],
 "metadata": {
  "kernelspec": {
   "display_name": "Python 3 (ipykernel)",
   "language": "python",
   "name": "python3"
  },
  "language_info": {
   "codemirror_mode": {
    "name": "ipython",
    "version": 3
   },
   "file_extension": ".py",
   "mimetype": "text/x-python",
   "name": "python",
   "nbconvert_exporter": "python",
   "pygments_lexer": "ipython3",
   "version": "3.9.16"
  }
 },
 "nbformat": 4,
 "nbformat_minor": 5
}
